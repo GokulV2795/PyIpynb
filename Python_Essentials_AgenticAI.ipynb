{
 "cells": [
  {
   "cell_type": "markdown",
   "metadata": {},
   "source": [
    "# 🐍 Python Essentials for Agentic AI (2-Hour Crash Course)\n",
    "This notebook covers the **must-know Python concepts** needed to start working with **Agentic AI**. Each section has explanations and examples."
   ]
  },
  {
   "cell_type": "markdown",
   "metadata": {},
   "source": [
    "## 1. Python Basics\n",
    "Variables, data types, operators, and conditionals form the foundation of all Python programs."
   ]
  },
  {
   "cell_type": "code",
   "execution_count": null,
   "metadata": {},
   "outputs": [],
   "source": [
    "# Variables and Data Types\n",
    "name = \"Agent\"\n",
    "score = 95\n",
    "active = True\n",
    "\n",
    "print(name, score, active)"
   ]
  },
  {
   "cell_type": "code",
   "execution_count": null,
   "metadata": {},
   "outputs": [],
   "source": [
    "# Operators and Expressions\n",
    "result = (score / 10) + 2\n",
    "print(\"Result:\", result)\n",
    "\n",
    "# Conditionals\n",
    "if score > 90:\n",
    "    print(\"Excellent Agent!\")\n",
    "else:\n",
    "    print(\"Keep training.\")"
   ]
  },
  {
   "cell_type": "markdown",
   "metadata": {},
   "source": [
    "## 2. Functions\n",
    "Functions help organize reusable code."
   ]
  },
  {
   "cell_type": "code",
   "execution_count": null,
   "metadata": {},
   "outputs": [],
   "source": [
    "def greet(agent_name):\n",
    "    return f\"Hello, {agent_name}\"\n",
    "\n",
    "print(greet(\"AI-007\"))"
   ]
  },
  {
   "cell_type": "code",
   "execution_count": null,
   "metadata": {},
   "outputs": [],
   "source": [
    "# Function with default argument\n",
    "def analyze(data, verbose=True):\n",
    "    if verbose:\n",
    "        print(\"Analyzing:\", data)\n",
    "    return len(data)\n",
    "\n",
    "analyze([1,2,3])"
   ]
  },
  {
   "cell_type": "markdown",
   "metadata": {},
   "source": [
    "## 3. Data Structures\n",
    "Lists, dictionaries, and list comprehensions are crucial for handling agent configs, tasks, and results."
   ]
  },
  {
   "cell_type": "code",
   "execution_count": null,
   "metadata": {},
   "outputs": [],
   "source": [
    "# Lists\n",
    "tasks = [\"fetch data\", \"clean data\", \"train model\"]\n",
    "print(tasks[0])\n",
    "tasks.append(\"deploy\")\n",
    "print(tasks)"
   ]
  },
  {
   "cell_type": "code",
   "execution_count": null,
   "metadata": {},
   "outputs": [],
   "source": [
    "# Dictionaries\n",
    "agent = {\"name\": \"PromoGenie\", \"status\": \"active\"}\n",
    "print(agent[\"name\"])\n",
    "\n",
    "# List Comprehension\n",
    "squares = [x**2 for x in range(5)]\n",
    "print(squares)"
   ]
  },
  {
   "cell_type": "markdown",
   "metadata": {},
   "source": [
    "## 4. Classes & Objects\n",
    "Classes are useful for defining **Agent blueprints**."
   ]
  },
  {
   "cell_type": "code",
   "execution_count": null,
   "metadata": {},
   "outputs": [],
   "source": [
    "class Agent:\n",
    "    def __init__(self, name, role):\n",
    "        self.name = name\n",
    "        self.role = role\n",
    "    \n",
    "    def act(self, task):\n",
    "        return f\"{self.name} is performing {task}\"\n",
    "\n",
    "a1 = Agent(\"PromoGenie\", \"Pricing\")\n",
    "print(a1.act(\"discount analysis\"))"
   ]
  },
  {
   "cell_type": "markdown",
   "metadata": {},
   "source": [
    "## 5. Modules & Imports\n",
    "Python has built-in modules and you can also create your own."
   ]
  },
  {
   "cell_type": "code",
   "execution_count": null,
   "metadata": {},
   "outputs": [],
   "source": [
    "import random\n",
    "print(random.choice([\"approve\", \"reject\"]))"
   ]
  },
  {
   "cell_type": "markdown",
   "metadata": {},
   "source": [
    "## 6. File & JSON Handling\n",
    "Agents often read/write logs and configs in JSON."
   ]
  },
  {
   "cell_type": "code",
   "execution_count": null,
   "metadata": {},
   "outputs": [],
   "source": [
    "# Writing to a file\n",
    "with open(\"log.txt\", \"w\") as f:\n",
    "    f.write(\"Agent started\\n\")\n",
    "\n",
    "# Working with JSON\n",
    "import json\n",
    "config = {\"agent\": \"PromoGenie\", \"tasks\": [\"forecast\", \"pricing\"]}\n",
    "with open(\"config.json\", \"w\") as f:\n",
    "    json.dump(config, f)\n",
    "print(\"Config written.\")"
   ]
  },
  {
   "cell_type": "markdown",
   "metadata": {},
   "source": [
    "## 7. API Calls\n",
    "Agents interact with external systems using APIs."
   ]
  },
  {
   "cell_type": "code",
   "execution_count": null,
   "metadata": {},
   "outputs": [],
   "source": [
    "import requests\n",
    "response = requests.get(\"https://api.github.com\")\n",
    "print(response.json()[\"current_user_url\"])"
   ]
  },
  {
   "cell_type": "markdown",
   "metadata": {},
   "source": [
    "## 8. Async & Parallelism\n",
    "Async allows agents to handle multiple tasks simultaneously."
   ]
  },
  {
   "cell_type": "code",
   "execution_count": null,
   "metadata": {},
   "outputs": [],
   "source": [
    "import asyncio\n",
    "\n",
    "async def task(n):\n",
    "    print(f\"Task {n} started\")\n",
    "    await asyncio.sleep(1)\n",
    "    print(f\"Task {n} done\")\n",
    "\n",
    "asyncio.run(task(1))"
   ]
  },
  {
   "cell_type": "markdown",
   "metadata": {},
   "source": [
    "## 9. Error Handling\n",
    "Agents must gracefully recover from errors."
   ]
  },
  {
   "cell_type": "code",
   "execution_count": null,
   "metadata": {},
   "outputs": [],
   "source": [
    "try:\n",
    "    x = 1 / 0\n",
    "except ZeroDivisionError as e:\n",
    "    print(\"Error:\", e)"
   ]
  },
  {
   "cell_type": "markdown",
   "metadata": {},
   "source": [
    "## 10. Mini Agent Simulation\n",
    "Putting it all together."
   ]
  },
  {
   "cell_type": "code",
   "execution_count": null,
   "metadata": {},
   "outputs": [],
   "source": [
    "import json, random\n",
    "\n",
    "class Agent:\n",
    "    def __init__(self, name):\n",
    "        self.name = name\n",
    "    \n",
    "    def decide(self, input_text):\n",
    "        actions = [\"analyze\", \"respond\", \"escalate\"]\n",
    "        return random.choice(actions)\n",
    "\n",
    "# Load config\n",
    "config = {\"agent\": \"SupportBot\"}\n",
    "a = Agent(config[\"agent\"])\n",
    "print(a.decide(\"customer complaint\"))"
   ]
  }
 ],
 "metadata": {
  "kernelspec": {
   "display_name": "Python 3",
   "language": "python",
   "name": "python3"
  },
  "language_info": {
   "name": "python",
   "version": "3.12.10"
  }
 },
 "nbformat": 4,
 "nbformat_minor": 5
}
