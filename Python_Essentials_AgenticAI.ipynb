{
 "cells": [
  {
   "cell_type": "markdown",
   "metadata": {},
   "source": [
    "# 🐍 Python Essentials for Agentic AI (2-Hour Crash Course)\n",
    "This notebook covers the **must-know Python concepts** needed to start working with **Agentic AI**. Each section has explanations and examples."
   ]
  },
  {
   "cell_type": "markdown",
   "metadata": {},
   "source": [
    "## 1. Python Basics\n",
    "Variables, data types, operators, and conditionals form the foundation of all Python programs."
   ]
  },
  {
   "cell_type": "code",
   "execution_count": 2,
   "metadata": {},
   "outputs": [
    {
     "name": "stdout",
     "output_type": "stream",
     "text": [
      "Agent <class 'str'> 95 <class 'int'> True <class 'bool'>\n"
     ]
    }
   ],
   "source": [
    "# Variables and Data Types\n",
    "name = \"Agent\"\n",
    "score = 95\n",
    "active = True\n",
    "\n",
    "print(name ,type(name), score,type(score), active,type(active))"
   ]
  },
  {
   "cell_type": "code",
   "execution_count": 3,
   "metadata": {},
   "outputs": [
    {
     "name": "stdout",
     "output_type": "stream",
     "text": [
      "Result: 11.5\n",
      "Excellent Agent!\n"
     ]
    }
   ],
   "source": [
    "# Operators and Expressions\n",
    "result = (score / 10) + 2\n",
    "print(\"Result:\", result)\n",
    "\n",
    "# Conditionals\n",
    "if score > 90:\n",
    "    print(\"Excellent Agent!\")\n",
    "else:\n",
    "    print(\"Keep training.\")"
   ]
  },
  {
   "cell_type": "markdown",
   "metadata": {},
   "source": [
    "## 2. Functions\n",
    "Functions help organize reusable code."
   ]
  },
  {
   "cell_type": "code",
   "execution_count": 4,
   "metadata": {},
   "outputs": [
    {
     "name": "stdout",
     "output_type": "stream",
     "text": [
      "Hello, AI-007\n"
     ]
    }
   ],
   "source": [
    "def greet(agent_name):\n",
    "    return f\"Hello, {agent_name}\"\n",
    "\n",
    "print(greet(\"AI-007\"))"
   ]
  },
  {
   "cell_type": "code",
   "execution_count": 5,
   "metadata": {},
   "outputs": [
    {
     "name": "stdout",
     "output_type": "stream",
     "text": [
      "Analyzing: [1, 2, 3]\n"
     ]
    },
    {
     "data": {
      "text/plain": [
       "3"
      ]
     },
     "execution_count": 5,
     "metadata": {},
     "output_type": "execute_result"
    }
   ],
   "source": [
    "# Function with default argument\n",
    "def analyze(data, verbose=True):\n",
    "    if verbose:\n",
    "        print(\"Analyzing:\", data)\n",
    "    return len(data)\n",
    "\n",
    "analyze([1,2,3])"
   ]
  },
  {
   "cell_type": "markdown",
   "metadata": {},
   "source": [
    "## 3. Data Structures\n",
    "Lists, dictionaries, and list comprehensions are crucial for handling agent configs, tasks, and results."
   ]
  },
  {
   "cell_type": "code",
   "execution_count": 6,
   "metadata": {},
   "outputs": [
    {
     "name": "stdout",
     "output_type": "stream",
     "text": [
      "fetch data\n",
      "['fetch data', 'clean data', 'train model', 'deploy']\n"
     ]
    }
   ],
   "source": [
    "# Lists\n",
    "tasks = [\"fetch data\", \"clean data\", \"train model\"]\n",
    "print(tasks[0])\n",
    "tasks.append(\"deploy\")\n",
    "print(tasks)"
   ]
  },
  {
   "cell_type": "code",
   "execution_count": 7,
   "metadata": {},
   "outputs": [
    {
     "name": "stdout",
     "output_type": "stream",
     "text": [
      "PromoGenie\n",
      "[0, 1, 4, 9, 16]\n"
     ]
    }
   ],
   "source": [
    "# Dictionaries\n",
    "agent = {\"name\": \"PromoGenie\", \"status\": \"active\"}\n",
    "print(agent[\"name\"])\n",
    "\n",
    "# List Comprehension\n",
    "squares = [x**2 for x in range(5)]\n",
    "print(squares)"
   ]
  },
  {
   "cell_type": "markdown",
   "metadata": {},
   "source": [
    "## 4. Classes & Objects\n",
    "Classes are useful for defining **Agent blueprints**."
   ]
  },
  {
   "cell_type": "code",
   "execution_count": 8,
   "metadata": {},
   "outputs": [
    {
     "name": "stdout",
     "output_type": "stream",
     "text": [
      "PromoGenie is performing discount analysis\n"
     ]
    }
   ],
   "source": [
    "class Agent:\n",
    "    def __init__(self, name, role):\n",
    "        self.name = name\n",
    "        self.role = role\n",
    "    \n",
    "    def act(self, task):\n",
    "        return f\"{self.name} is performing {task}\"\n",
    "\n",
    "a1 = Agent(\"PromoGenie\", \"Pricing\")\n",
    "print(a1.act(\"discount analysis\"))"
   ]
  },
  {
   "cell_type": "markdown",
   "metadata": {},
   "source": [
    "## 5. Modules & Imports\n",
    "Python has built-in modules and you can also create your own."
   ]
  },
  {
   "cell_type": "code",
   "execution_count": 11,
   "metadata": {},
   "outputs": [
    {
     "name": "stdout",
     "output_type": "stream",
     "text": [
      "reject\n"
     ]
    }
   ],
   "source": [
    "import random\n",
    "print(random.choice([\"approve\", \"reject\"]))"
   ]
  },
  {
   "cell_type": "markdown",
   "metadata": {},
   "source": [
    "## 6. File & JSON Handling\n",
    "Agents often read/write logs and configs in JSON."
   ]
  },
  {
   "cell_type": "code",
   "execution_count": 12,
   "metadata": {},
   "outputs": [
    {
     "name": "stdout",
     "output_type": "stream",
     "text": [
      "Config written.\n"
     ]
    }
   ],
   "source": [
    "# Writing to a file\n",
    "with open(\"log.txt\", \"w\") as f:\n",
    "    f.write(\"Agent started\\n\")\n",
    "\n",
    "# Working with JSON\n",
    "import json\n",
    "config = {\"agent\": \"PromoGenie\", \"tasks\": [\"forecast\", \"pricing\"]}\n",
    "with open(\"config.json\", \"w\") as f:\n",
    "    json.dump(config, f)\n",
    "print(\"Config written.\")"
   ]
  },
  {
   "cell_type": "markdown",
   "metadata": {},
   "source": [
    "## 7. API Calls\n",
    "Agents interact with external systems using APIs."
   ]
  },
  {
   "cell_type": "code",
   "execution_count": 13,
   "metadata": {},
   "outputs": [
    {
     "name": "stdout",
     "output_type": "stream",
     "text": [
      "https://api.github.com/user\n"
     ]
    }
   ],
   "source": [
    "import requests\n",
    "response = requests.get(\"https://api.github.com\")\n",
    "print(response.json()[\"current_user_url\"])"
   ]
  },
  {
   "cell_type": "markdown",
   "metadata": {},
   "source": [
    "## 8. Async & Parallelism\n",
    "Async allows agents to handle multiple tasks simultaneously."
   ]
  },
  {
   "cell_type": "code",
   "execution_count": 14,
   "metadata": {},
   "outputs": [
    {
     "ename": "RuntimeError",
     "evalue": "asyncio.run() cannot be called from a running event loop",
     "output_type": "error",
     "traceback": [
      "\u001b[1;31m---------------------------------------------------------------------------\u001b[0m",
      "\u001b[1;31mRuntimeError\u001b[0m                              Traceback (most recent call last)",
      "Cell \u001b[1;32mIn[14], line 8\u001b[0m\n\u001b[0;32m      5\u001b[0m     \u001b[38;5;28;01mawait\u001b[39;00m asyncio\u001b[38;5;241m.\u001b[39msleep(\u001b[38;5;241m1\u001b[39m)\n\u001b[0;32m      6\u001b[0m     \u001b[38;5;28mprint\u001b[39m(\u001b[38;5;124mf\u001b[39m\u001b[38;5;124m\"\u001b[39m\u001b[38;5;124mTask \u001b[39m\u001b[38;5;132;01m{\u001b[39;00mn\u001b[38;5;132;01m}\u001b[39;00m\u001b[38;5;124m done\u001b[39m\u001b[38;5;124m\"\u001b[39m)\n\u001b[1;32m----> 8\u001b[0m \u001b[43masyncio\u001b[49m\u001b[38;5;241;43m.\u001b[39;49m\u001b[43mrun\u001b[49m\u001b[43m(\u001b[49m\u001b[43mtask\u001b[49m\u001b[43m(\u001b[49m\u001b[38;5;241;43m1\u001b[39;49m\u001b[43m)\u001b[49m\u001b[43m)\u001b[49m\n",
      "File \u001b[1;32mC:\\Program Files\\WindowsApps\\PythonSoftwareFoundation.Python.3.12_3.12.2800.0_x64__qbz5n2kfra8p0\\Lib\\asyncio\\runners.py:191\u001b[0m, in \u001b[0;36mrun\u001b[1;34m(main, debug, loop_factory)\u001b[0m\n\u001b[0;32m    161\u001b[0m \u001b[38;5;250m\u001b[39m\u001b[38;5;124;03m\"\"\"Execute the coroutine and return the result.\u001b[39;00m\n\u001b[0;32m    162\u001b[0m \n\u001b[0;32m    163\u001b[0m \u001b[38;5;124;03mThis function runs the passed coroutine, taking care of\u001b[39;00m\n\u001b[1;32m   (...)\u001b[0m\n\u001b[0;32m    187\u001b[0m \u001b[38;5;124;03m    asyncio.run(main())\u001b[39;00m\n\u001b[0;32m    188\u001b[0m \u001b[38;5;124;03m\"\"\"\u001b[39;00m\n\u001b[0;32m    189\u001b[0m \u001b[38;5;28;01mif\u001b[39;00m events\u001b[38;5;241m.\u001b[39m_get_running_loop() \u001b[38;5;129;01mis\u001b[39;00m \u001b[38;5;129;01mnot\u001b[39;00m \u001b[38;5;28;01mNone\u001b[39;00m:\n\u001b[0;32m    190\u001b[0m     \u001b[38;5;66;03m# fail fast with short traceback\u001b[39;00m\n\u001b[1;32m--> 191\u001b[0m     \u001b[38;5;28;01mraise\u001b[39;00m \u001b[38;5;167;01mRuntimeError\u001b[39;00m(\n\u001b[0;32m    192\u001b[0m         \u001b[38;5;124m\"\u001b[39m\u001b[38;5;124masyncio.run() cannot be called from a running event loop\u001b[39m\u001b[38;5;124m\"\u001b[39m)\n\u001b[0;32m    194\u001b[0m \u001b[38;5;28;01mwith\u001b[39;00m Runner(debug\u001b[38;5;241m=\u001b[39mdebug, loop_factory\u001b[38;5;241m=\u001b[39mloop_factory) \u001b[38;5;28;01mas\u001b[39;00m runner:\n\u001b[0;32m    195\u001b[0m     \u001b[38;5;28;01mreturn\u001b[39;00m runner\u001b[38;5;241m.\u001b[39mrun(main)\n",
      "\u001b[1;31mRuntimeError\u001b[0m: asyncio.run() cannot be called from a running event loop"
     ]
    }
   ],
   "source": [
    "import asyncio\n",
    "\n",
    "async def task(n):\n",
    "    print(f\"Task {n} started\")\n",
    "    await asyncio.sleep(1)\n",
    "    print(f\"Task {n} done\")\n",
    "\n",
    "asyncio.run(task(1))"
   ]
  },
  {
   "cell_type": "markdown",
   "metadata": {},
   "source": [
    "## 9. Error Handling\n",
    "Agents must gracefully recover from errors."
   ]
  },
  {
   "cell_type": "code",
   "execution_count": 15,
   "metadata": {},
   "outputs": [
    {
     "name": "stdout",
     "output_type": "stream",
     "text": [
      "Error: division by zero\n"
     ]
    }
   ],
   "source": [
    "try:\n",
    "    x = 1 / 0\n",
    "except ZeroDivisionError as e:\n",
    "    print(\"Error:\", e)"
   ]
  },
  {
   "cell_type": "markdown",
   "metadata": {},
   "source": [
    "## 10. Mini Agent Simulation\n",
    "Putting it all together."
   ]
  },
  {
   "cell_type": "code",
   "execution_count": 16,
   "metadata": {},
   "outputs": [
    {
     "name": "stdout",
     "output_type": "stream",
     "text": [
      "analyze\n"
     ]
    }
   ],
   "source": [
    "import json, random\n",
    "\n",
    "class Agent:\n",
    "    def __init__(self, name):\n",
    "        self.name = name\n",
    "    \n",
    "    def decide(self, input_text):\n",
    "        actions = [\"analyze\", \"respond\", \"escalate\"]\n",
    "        return random.choice(actions)\n",
    "\n",
    "# Load config\n",
    "config = {\"agent\": \"SupportBot\"}\n",
    "a = Agent(config[\"agent\"])\n",
    "print(a.decide(\"customer complaint\"))"
   ]
  },
  {
   "cell_type": "code",
   "execution_count": 4,
   "id": "3377a45d",
   "metadata": {},
   "outputs": [
    {
     "name": "stdout",
     "output_type": "stream",
     "text": [
      "d:\\react_projects\\PyIpynb\n"
     ]
    }
   ],
   "source": [
    "import os\n",
    "print(os.getcwd())"
   ]
  },
  {
   "cell_type": "code",
   "execution_count": 16,
   "id": "b2d99f29",
   "metadata": {},
   "outputs": [
    {
     "name": "stdout",
     "output_type": "stream",
     "text": [
      "This is my First File Handling\n",
      "This is an Appended Data\n",
      "First_one\n",
      "Second_one\n",
      "Third_one\n",
      "\n"
     ]
    }
   ],
   "source": [
    "with open('example.txt','r') as file:\n",
    "    content=file.read()\n",
    "    print(content)"
   ]
  },
  {
   "cell_type": "code",
   "execution_count": 13,
   "id": "2e79f25c",
   "metadata": {},
   "outputs": [],
   "source": [
    "with open('example.txt','w') as file:\n",
    "    file.write('This is my First File Handling\\n')"
   ]
  },
  {
   "cell_type": "code",
   "execution_count": 14,
   "id": "016e6c1a",
   "metadata": {},
   "outputs": [],
   "source": [
    "with open('example.txt','a') as file:\n",
    "    file.write('This is an Appended Data\\n')"
   ]
  },
  {
   "cell_type": "code",
   "execution_count": 15,
   "id": "b0f9c1e5",
   "metadata": {},
   "outputs": [],
   "source": [
    "lines=['First_one\\n','Second_one\\n','Third_one\\n']\n",
    "with open('example.txt','a') as file:\n",
    "     file.writelines(lines)"
   ]
  },
  {
   "cell_type": "code",
   "execution_count": 17,
   "id": "ede89e87",
   "metadata": {},
   "outputs": [
    {
     "name": "stdout",
     "output_type": "stream",
     "text": [
      "Current Directory is d:\\react_projects\\PyIpynb\n"
     ]
    }
   ],
   "source": [
    "import os\n",
    "cwd=os.getcwd()\n",
    "print(f\"Current Directory is {cwd}\")"
   ]
  },
  {
   "cell_type": "code",
   "execution_count": 18,
   "id": "3114239a",
   "metadata": {},
   "outputs": [
    {
     "name": "stdout",
     "output_type": "stream",
     "text": [
      "Directory'package'create\n"
     ]
    }
   ],
   "source": [
    "new_directory=\"package\"\n",
    "os.mkdir(new_directory)\n",
    "print(f\"Directory'{new_directory}'create\")"
   ]
  },
  {
   "cell_type": "code",
   "execution_count": 19,
   "id": "79dbd061",
   "metadata": {},
   "outputs": [
    {
     "name": "stdout",
     "output_type": "stream",
     "text": [
      "['.git', 'config.json', 'example.txt', 'log.txt', 'package', 'Python_Essentials_AgenticAI.ipynb']\n"
     ]
    }
   ],
   "source": [
    "items=os.listdir('.')\n",
    "print(items)"
   ]
  },
  {
   "cell_type": "code",
   "execution_count": 20,
   "id": "7e6e419e",
   "metadata": {},
   "outputs": [
    {
     "name": "stdout",
     "output_type": "stream",
     "text": [
      "d:\\react_projects\\PyIpynb\\folder\\file.txt\n"
     ]
    }
   ],
   "source": [
    "dir_name=\"folder\"\n",
    "file_name=\"file.txt\"\n",
    "full_path=os.path.join(os.getcwd(),dir_name,file_name)\n",
    "print(full_path)"
   ]
  },
  {
   "cell_type": "code",
   "execution_count": 21,
   "id": "b42c3601",
   "metadata": {},
   "outputs": [
    {
     "name": "stdout",
     "output_type": "stream",
     "text": [
      "The path 'example1.txt' doesn't exists\n"
     ]
    }
   ],
   "source": [
    "path='example1.txt'\n",
    "if os.path.exists(path):\n",
    "    print(f\"The path '{path}' exists\")\n",
    "else:\n",
    "    print(f\"The path '{path}' doesn't exists\")"
   ]
  },
  {
   "cell_type": "code",
   "execution_count": 22,
   "id": "70db171c",
   "metadata": {},
   "outputs": [
    {
     "name": "stdout",
     "output_type": "stream",
     "text": [
      "The path 'example.txt' is a file.\n"
     ]
    }
   ],
   "source": [
    "import os \n",
    "\n",
    "path='example.txt'\n",
    "\n",
    "if os.path.isfile(path):\n",
    "    print(f\"The path '{path}' is a file.\")\n",
    "elif os.path.isdir(path):\n",
    "    print(f\"The path '{path}' is a directory.\")\n",
    "else:\n",
    "    print(f\"The path '{path}' is neither a file nor a directory.\")"
   ]
  },
  {
   "cell_type": "code",
   "execution_count": 27,
   "id": "59dd2a5e",
   "metadata": {},
   "outputs": [
    {
     "name": "stdout",
     "output_type": "stream",
     "text": [
      "Error: division by zero\n",
      "Execution completed.\n"
     ]
    }
   ],
   "source": [
    "num = int(input(\"Enter Numerator: \"))\n",
    "den = int(input(\"Enter Denominator: \"))\n",
    "\n",
    "try:\n",
    "    result = num / den\n",
    "except ZeroDivisionError as ex:\n",
    "    print(\"Error:\", ex)\n",
    "else:\n",
    "    print(\"Division successful! Result:\", result)\n",
    "finally:\n",
    "    print(\"Execution completed.\")\n"
   ]
  },
  {
   "cell_type": "code",
   "execution_count": null,
   "id": "cdcddb25",
   "metadata": {},
   "outputs": [
    {
     "name": "stdout",
     "output_type": "stream",
     "text": [
      "The file does not exists\n"
     ]
    },
    {
     "ename": "NameError",
     "evalue": "name 'file' is not defined",
     "output_type": "error",
     "traceback": [
      "\u001b[1;31m---------------------------------------------------------------------------\u001b[0m",
      "\u001b[1;31mNameError\u001b[0m                                 Traceback (most recent call last)",
      "Cell \u001b[1;32mIn[2], line 11\u001b[0m\n\u001b[0;32m      9\u001b[0m     \u001b[38;5;28mprint\u001b[39m(ex)\n\u001b[0;32m     10\u001b[0m \u001b[38;5;28;01mfinally\u001b[39;00m:\n\u001b[1;32m---> 11\u001b[0m     \u001b[38;5;28;01mif\u001b[39;00m \u001b[43mfile\u001b[49m \u001b[38;5;129;01min\u001b[39;00m \u001b[38;5;28mlocals\u001b[39m() \u001b[38;5;129;01mor\u001b[39;00m \u001b[38;5;129;01mnot\u001b[39;00m file\u001b[38;5;241m.\u001b[39mclosed():\n\u001b[0;32m     12\u001b[0m         file\u001b[38;5;241m.\u001b[39mclose()\n\u001b[0;32m     13\u001b[0m         \u001b[38;5;28mprint\u001b[39m(\u001b[38;5;124m'\u001b[39m\u001b[38;5;124mFile Close\u001b[39m\u001b[38;5;124m'\u001b[39m)\n",
      "\u001b[1;31mNameError\u001b[0m: name 'file' is not defined"
     ]
    }
   ],
   "source": [
    "try:\n",
    "    file=open('example1.txt','r')\n",
    "    content=file.read()\n",
    "    a=b\n",
    "    print(content)\n",
    "except FileNotFoundError:\n",
    "    print(\"The file does not exists\")\n",
    "except Exception as ex:\n",
    "    print(ex)\n",
    "finally:\n",
    "    if 'file' in locals() or not file.closed():\n",
    "        file.close()\n",
    "        print('File Close')"
   ]
  },
  {
   "cell_type": "code",
   "execution_count": 5,
   "id": "26c0eb97",
   "metadata": {},
   "outputs": [
    {
     "name": "stdout",
     "output_type": "stream",
     "text": [
      "5000\n",
      "3000 is deposited. New Balance is 8000\n",
      "3000 is deposited. New Balance is 8000\n",
      "250 is withdrawn. New Balance is 7750\n"
     ]
    }
   ],
   "source": [
    "class Account:\n",
    "    def __init__(self,owner,balance):\n",
    "        self.owner=owner\n",
    "        self.balance=balance\n",
    "    def deposit(self,amount):\n",
    "        self.balance+=amount\n",
    "        print(f\"{amount} is deposited. New Balance is {self.balance}\")\n",
    "    def withdraw(self,amount):\n",
    "        if amount>self.balance:\n",
    "            print(\"Insufficient funds!\")\n",
    "        else:\n",
    "            self.balance-=amount\n",
    "            print(f\"{amount} is withdrawn. New Balance is {self.balance}\")\n",
    "    def get_balance(self):\n",
    "        return self.balance\n",
    "    \n",
    "## Create an Account\n",
    "account= Account(\"Gokul\",5000)\n",
    "print(account.balance)\n",
    "account.deposit(int(input(\"Enter Amount:\")))\n",
    "account.withdraw(int(input(\"Enter Amount:\")))"
   ]
  },
  {
   "cell_type": "code",
   "execution_count": 10,
   "id": "79c3b5b9",
   "metadata": {},
   "outputs": [
    {
     "name": "stdout",
     "output_type": "stream",
     "text": [
      "Buddy say woof\n",
      "Owner of Buddy is Gopal\n"
     ]
    }
   ],
   "source": [
    "class Animal:\n",
    "    def __init__(self,name):\n",
    "        self.name=name\n",
    "   \n",
    "    def speak(self):\n",
    "        print(\"Subclass must implement this method\")\n",
    "class Pet:\n",
    "    def __init__(self,owner):\n",
    "        self.owner=owner\n",
    "    \n",
    "class Dog(Animal, Pet):\n",
    "    def __init__(self, name, owner):\n",
    "        super().__init__(name)  # Initializes Animal\n",
    "        Pet.__init__(self, owner)  # Initializes Pet\n",
    "\n",
    "    def speak(self):\n",
    "        return f\"{self.name} say woof\"\n",
    "\n",
    "dog = Dog(\"Buddy\", \"Gopal\")\n",
    "print(dog.speak())\n",
    "print(f\"Owner of {dog.name} is {dog.owner}\")"
   ]
  },
  {
   "cell_type": "code",
   "execution_count": null,
   "id": "b5dd2e01",
   "metadata": {
    "vscode": {
     "languageId": "julia"
    }
   },
   "outputs": [],
   "source": [
    "import numpy as np\n",
    "\n",
    "# Basic: Creating arrays\n",
    "arr = np.array([1, 2, 3, 4])\n",
    "print(\"Basic Array:\", arr)\n",
    "\n",
    "# Array properties\n",
    "print(\"Shape:\", arr.shape)\n",
    "print(\"Data type:\", arr.dtype)\n",
    "\n",
    "# Advanced: Multi-dimensional arrays\n",
    "matrix = np.array([[1, 2], [3, 4]])\n",
    "print(\"2D Array:\\n\", matrix)\n",
    "\n",
    "# Array operations\n",
    "sum_arr = arr + 10\n",
    "print(\"Add 10 to each element:\", sum_arr)\n",
    "\n",
    "# Broadcasting\n",
    "broadcasted = matrix + arr[:2]\n",
    "print(\"Broadcasted addition:\\n\", broadcasted)\n",
    "\n",
    "# Slicing and indexing\n",
    "print(\"First row:\", matrix[0])\n",
    "print(\"Element at (1,1):\", matrix[1,1])\n",
    "\n",
    "# Advanced: Mathematical functions\n",
    "sin_arr = np.sin(arr)\n",
    "print(\"Sine of array:\", sin_arr)\n",
    "\n",
    "# Advanced: Aggregations\n",
    "print(\"Mean:\", np.mean(arr))\n",
    "print(\"Standard deviation:\", np.std(arr))\n",
    "\n",
    "# Advanced: Linear algebra\n",
    "identity = np.eye(2)\n",
    "product = np.dot(matrix, identity)\n",
    "print(\"Matrix dot identity:\\n\", product)\n",
    "\n",
    "# Advanced: Random numbers\n",
    "rand_nums = np.random.rand(3,2)\n",
    "print(\"Random numbers:\\n\", rand_nums)\n",
    "\n",
    "# Explanation:\n",
    "# - np.array creates arrays.\n",
    "# - Arrays have shape and dtype properties.\n",
    "# - Operations (+, -, *, /) are element-wise.\n",
    "# - Broadcasting allows operations on arrays of different shapes.\n",
    "# - Slicing/indexing works like lists but for any dimension.\n",
    "# - Mathematical functions (sin, mean, std) work on arrays.\n",
    "# - np.dot performs matrix multiplication.\n",
    "# - np.random.rand generates random arrays."
   ]
  },
  {
   "cell_type": "code",
   "execution_count": 1,
   "id": "669fe62b",
   "metadata": {},
   "outputs": [
    {
     "name": "stdout",
     "output_type": "stream",
     "text": [
      "Basic Array: [1 2 3 4]\n"
     ]
    }
   ],
   "source": [
    "import numpy as np\n",
    "\n",
    "# Basic: Creating arrays\n",
    "arr = np.array([1, 2, 3, 4])\n",
    "print(\"Basic Array:\", arr)\n"
   ]
  },
  {
   "cell_type": "code",
   "execution_count": 2,
   "id": "4feb7ef3",
   "metadata": {},
   "outputs": [
    {
     "name": "stdout",
     "output_type": "stream",
     "text": [
      "Basic Array: [1 2 3 4]\n",
      "Shape: (4,)\n",
      "Data type: int32\n",
      "2D Array:\n",
      " [[1 2]\n",
      " [3 4]]\n",
      "Add 10 to each element: [11 12 13 14]\n",
      "Broadcasted addition:\n",
      " [[2 4]\n",
      " [4 6]]\n",
      "First row: [1 2]\n",
      "Element at (1,1): 4\n",
      "Sine of array: [ 0.84147098  0.90929743  0.14112001 -0.7568025 ]\n",
      "Mean: 2.5\n",
      "Standard deviation: 1.118033988749895\n",
      "Matrix dot identity:\n",
      " [[1. 2.]\n",
      " [3. 4.]]\n",
      "Random numbers:\n",
      " [[0.12613483 0.83240007]\n",
      " [0.00113846 0.15834225]\n",
      " [0.51797991 0.77078701]]\n"
     ]
    }
   ],
   "source": [
    "import numpy as np\n",
    "\n",
    "# Basic: Creating arrays\n",
    "arr = np.array([1, 2, 3, 4])\n",
    "print(\"Basic Array:\", arr)\n",
    "\n",
    "# Array properties\n",
    "print(\"Shape:\", arr.shape)\n",
    "print(\"Data type:\", arr.dtype)\n",
    "\n",
    "# Advanced: Multi-dimensional arrays\n",
    "matrix = np.array([[1, 2], [3, 4]])\n",
    "print(\"2D Array:\\n\", matrix)\n",
    "\n",
    "# Array operations\n",
    "sum_arr = arr + 10\n",
    "print(\"Add 10 to each element:\", sum_arr)\n",
    "\n",
    "# Broadcasting\n",
    "broadcasted = matrix + arr[:2]\n",
    "print(\"Broadcasted addition:\\n\", broadcasted)\n",
    "\n",
    "# Slicing and indexing\n",
    "print(\"First row:\", matrix[0])\n",
    "print(\"Element at (1,1):\", matrix[1,1])\n",
    "\n",
    "# Advanced: Mathematical functions\n",
    "sin_arr = np.sin(arr)\n",
    "print(\"Sine of array:\", sin_arr)\n",
    "\n",
    "# Advanced: Aggregations\n",
    "print(\"Mean:\", np.mean(arr))\n",
    "print(\"Standard deviation:\", np.std(arr))\n",
    "\n",
    "# Advanced: Linear algebra\n",
    "identity = np.eye(2)\n",
    "product = np.dot(matrix, identity)\n",
    "print(\"Matrix dot identity:\\n\", product)\n",
    "\n",
    "# Advanced: Random numbers\n",
    "rand_nums = np.random.rand(3,2)\n",
    "print(\"Random numbers:\\n\", rand_nums)\n",
    "\n",
    "# Explanation:\n",
    "# - np.array creates arrays.\n",
    "# - Arrays have shape and dtype properties.\n",
    "# - Operations (+, -, *, /) are element-wise.\n",
    "# - Broadcasting allows operations on arrays of different shapes.\n",
    "# - Slicing/indexing works like lists but for any dimension.\n",
    "# - Mathematical functions (sin, mean, std) work on arrays.\n",
    "# - np.dot performs matrix multiplication.\n",
    "# - np.random.rand generates random arrays."
   ]
  },
  {
   "cell_type": "code",
   "execution_count": 3,
   "id": "cab66680",
   "metadata": {},
   "outputs": [
    {
     "name": "stdout",
     "output_type": "stream",
     "text": [
      "DataFrame:\n",
      "       Name  Age  Score\n",
      "0    Alice   25     85\n",
      "1      Bob   30     90\n",
      "2  Charlie   35     95\n",
      "Names: 0      Alice\n",
      "1        Bob\n",
      "2    Charlie\n",
      "Name: Name, dtype: object\n",
      "First row:\n",
      " Name     Alice\n",
      "Age         25\n",
      "Score       85\n",
      "Name: 0, dtype: object\n",
      "Filtered (Age > 28):\n",
      "       Name  Age  Score\n",
      "1      Bob   30     90\n",
      "2  Charlie   35     95\n",
      "With Passed column:\n",
      "       Name  Age  Score  Passed\n",
      "0    Alice   25     85   False\n",
      "1      Bob   30     90   False\n",
      "2  Charlie   35     95    True\n",
      "Mean Age: 30.0\n",
      "Max Score: 95\n",
      "Mean Score by Passed:\n",
      " Passed\n",
      "False    87.5\n",
      "True     95.0\n",
      "Name: Score, dtype: float64\n",
      "With missing value:\n",
      "       Name  Age  Score  Passed\n",
      "0    Alice   25   85.0   False\n",
      "1      Bob   30    NaN   False\n",
      "2  Charlie   35   95.0    True\n",
      "Fill missing Score:\n",
      " 0    85.0\n",
      "1    90.0\n",
      "2    95.0\n",
      "Name: Score, dtype: float64\n",
      "Loaded from CSV:\n",
      "       Name  Age  Score  Passed\n",
      "0    Alice   25   85.0   False\n",
      "1      Bob   30    NaN   False\n",
      "2  Charlie   35   95.0    True\n",
      "Merged DataFrame:\n",
      "       Name  Age  Score  Passed Country\n",
      "0    Alice   25   85.0   False     USA\n",
      "1      Bob   30    NaN   False      UK\n",
      "2  Charlie   35   95.0    True     NaN\n",
      "Pivot Table:\n",
      "         Score\n",
      "Passed       \n",
      "False    85.0\n",
      "True     95.0\n"
     ]
    }
   ],
   "source": [
    "import pandas as pd\n",
    "\n",
    "# Basic: Creating a DataFrame\n",
    "data = {\n",
    "    'Name': ['Alice', 'Bob', 'Charlie'],\n",
    "    'Age': [25, 30, 35],\n",
    "    'Score': [85, 90, 95]\n",
    "}\n",
    "df = pd.DataFrame(data)\n",
    "print(\"DataFrame:\\n\", df)\n",
    "\n",
    "# Accessing columns and rows\n",
    "print(\"Names:\", df['Name'])\n",
    "print(\"First row:\\n\", df.iloc[0])\n",
    "\n",
    "# Filtering data\n",
    "filtered = df[df['Age'] > 28]\n",
    "print(\"Filtered (Age > 28):\\n\", filtered)\n",
    "\n",
    "# Adding new columns\n",
    "df['Passed'] = df['Score'] > 90\n",
    "print(\"With Passed column:\\n\", df)\n",
    "\n",
    "# Aggregations\n",
    "print(\"Mean Age:\", df['Age'].mean())\n",
    "print(\"Max Score:\", df['Score'].max())\n",
    "\n",
    "# GroupBy\n",
    "grouped = df.groupby('Passed')['Score'].mean()\n",
    "print(\"Mean Score by Passed:\\n\", grouped)\n",
    "\n",
    "# Handling missing data\n",
    "df.loc[1, 'Score'] = None\n",
    "print(\"With missing value:\\n\", df)\n",
    "print(\"Fill missing Score:\\n\", df['Score'].fillna(df['Score'].mean()))\n",
    "\n",
    "# Advanced: Reading/writing CSV\n",
    "df.to_csv('sample.csv', index=False)\n",
    "loaded = pd.read_csv('sample.csv')\n",
    "print(\"Loaded from CSV:\\n\", loaded)\n",
    "\n",
    "# Advanced: Merging DataFrames\n",
    "df2 = pd.DataFrame({'Name': ['Alice', 'Bob'], 'Country': ['USA', 'UK']})\n",
    "merged = pd.merge(df, df2, on='Name', how='left')\n",
    "print(\"Merged DataFrame:\\n\", merged)\n",
    "\n",
    "# Advanced: Pivot table\n",
    "pivot = pd.pivot_table(df, values='Score', index='Passed', aggfunc='mean')\n",
    "print(\"Pivot Table:\\n\", pivot)"
   ]
  },
  {
   "cell_type": "code",
   "execution_count": 4,
   "id": "a0ebf956",
   "metadata": {},
   "outputs": [],
   "source": [
    "import pandas as pd\n",
    "\n",
    "# Basic: Creating a DataFrame\n",
    "data = {\n",
    "    'Name': ['Alice', 'Bob', 'Charlie'],\n",
    "    'Age': [25, 30, 35],\n",
    "    'Score': [85, 90, 95]\n",
    "}"
   ]
  },
  {
   "cell_type": "code",
   "execution_count": 5,
   "id": "bb02a31c",
   "metadata": {},
   "outputs": [
    {
     "name": "stdout",
     "output_type": "stream",
     "text": [
      "DataFrame:\n",
      "       Name  Age  Score\n",
      "0    Alice   25     85\n",
      "1      Bob   30     90\n",
      "2  Charlie   35     95\n"
     ]
    }
   ],
   "source": [
    "df = pd.DataFrame(data)\n",
    "print(\"DataFrame:\\n\", df)"
   ]
  },
  {
   "cell_type": "code",
   "execution_count": 6,
   "id": "711198e0",
   "metadata": {},
   "outputs": [
    {
     "name": "stdout",
     "output_type": "stream",
     "text": [
      "Names: 0      Alice\n",
      "1        Bob\n",
      "2    Charlie\n",
      "Name: Name, dtype: object\n",
      "First row:\n",
      " Name     Alice\n",
      "Age         25\n",
      "Score       85\n",
      "Name: 0, dtype: object\n"
     ]
    }
   ],
   "source": [
    "# Accessing columns and rows\n",
    "print(\"Names:\", df['Name'])\n",
    "print(\"First row:\\n\", df.iloc[0])"
   ]
  },
  {
   "cell_type": "code",
   "execution_count": 7,
   "id": "406214f8",
   "metadata": {},
   "outputs": [
    {
     "name": "stdout",
     "output_type": "stream",
     "text": [
      "Filtered (Age > 28):\n",
      "       Name  Age  Score\n",
      "1      Bob   30     90\n",
      "2  Charlie   35     95\n"
     ]
    }
   ],
   "source": [
    "# Filtering data\n",
    "filtered = df[df['Age'] > 28]\n",
    "print(\"Filtered (Age > 28):\\n\", filtered)"
   ]
  },
  {
   "cell_type": "code",
   "execution_count": 10,
   "id": "eccbeced",
   "metadata": {},
   "outputs": [
    {
     "name": "stdout",
     "output_type": "stream",
     "text": [
      "With Passed column:\n",
      "       Name  Age  Score  Passed\n",
      "0    Alice   25     85   False\n",
      "1      Bob   30     90   False\n",
      "2  Charlie   35     95    True\n",
      "Mean Age: 30.0\n",
      "Max Score: 95\n"
     ]
    }
   ],
   "source": [
    "# Adding new columns\n",
    "df['Passed'] = df['Score'] > 90\n",
    "print(\"With Passed column:\\n\", df)\n",
    "\n",
    "# Aggregations\n",
    "print(\"Mean Age:\", df['Age'].mean())\n",
    "print(\"Max Score:\", df['Score'].max())"
   ]
  },
  {
   "cell_type": "code",
   "execution_count": 11,
   "id": "49a3e9a1",
   "metadata": {},
   "outputs": [
    {
     "name": "stdout",
     "output_type": "stream",
     "text": [
      "Mean Score by Passed:\n",
      " Passed\n",
      "False    87.5\n",
      "True     95.0\n",
      "Name: Score, dtype: float64\n",
      "With missing value:\n",
      "       Name  Age  Score  Passed\n",
      "0    Alice   25   85.0   False\n",
      "1      Bob   30    NaN   False\n",
      "2  Charlie   35   95.0    True\n",
      "Fill missing Score:\n",
      " 0    85.0\n",
      "1    90.0\n",
      "2    95.0\n",
      "Name: Score, dtype: float64\n"
     ]
    }
   ],
   "source": [
    "# GroupBy\n",
    "grouped = df.groupby('Passed')['Score'].mean()\n",
    "print(\"Mean Score by Passed:\\n\", grouped)\n",
    "\n",
    "# Handling missing data\n",
    "df.loc[1, 'Score'] = None\n",
    "print(\"With missing value:\\n\", df)\n",
    "print(\"Fill missing Score:\\n\", df['Score'].fillna(df['Score'].mean()))"
   ]
  },
  {
   "cell_type": "code",
   "execution_count": 12,
   "id": "d610a969",
   "metadata": {},
   "outputs": [
    {
     "name": "stdout",
     "output_type": "stream",
     "text": [
      "Loaded from CSV:\n",
      "       Name  Age  Score  Passed\n",
      "0    Alice   25   85.0   False\n",
      "1      Bob   30    NaN   False\n",
      "2  Charlie   35   95.0    True\n"
     ]
    }
   ],
   "source": [
    "# Advanced: Reading/writing CSV\n",
    "df.to_csv('sample.csv', index=False)\n",
    "loaded = pd.read_csv('sample.csv')\n",
    "print(\"Loaded from CSV:\\n\", loaded)\n"
   ]
  }
 ],
 "metadata": {
  "kernelspec": {
   "display_name": "Python 3",
   "language": "python",
   "name": "python3"
  },
  "language_info": {
   "codemirror_mode": {
    "name": "ipython",
    "version": 3
   },
   "file_extension": ".py",
   "mimetype": "text/x-python",
   "name": "python",
   "nbconvert_exporter": "python",
   "pygments_lexer": "ipython3",
   "version": "3.12.10"
  }
 },
 "nbformat": 4,
 "nbformat_minor": 5
}
